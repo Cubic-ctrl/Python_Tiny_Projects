{
 "cells": [
  {
   "cell_type": "markdown",
   "id": "4195146e",
   "metadata": {},
   "source": [
    "# Digital Clock with Python"
   ]
  },
  {
   "cell_type": "code",
   "execution_count": 8,
   "id": "ba149029",
   "metadata": {},
   "outputs": [],
   "source": [
    "#import modules\n",
    "from time import strftime\n",
    "from tkinter import Label, Tk\n",
    "\n",
    "# Window Config for clock\n",
    "window = Tk()\n",
    "window.title(\"\")\n",
    "window.geometry(\"500x400\")\n",
    "window.configure(bg = \"white\")\n",
    "window.resizable(False, False)\n",
    "\n",
    "# label config\n",
    "clock_label = Label(window, bg=\"green\", fg=\"white\", font = (\"Times\", 75, 'bold'), relief='flat')\n",
    "clock_label.place(x = 20, y = 20)\n",
    "\n",
    "def updating_label():\n",
    "    current_time = strftime('%H: %M: %S')\n",
    "    clock_label.configure(text = current_time)\n",
    "    clock_label.after(80, updating_label)\n",
    "\n",
    "updating_label()\n",
    "window.mainloop()"
   ]
  },
  {
   "cell_type": "code",
   "execution_count": null,
   "id": "c3fb3d92",
   "metadata": {},
   "outputs": [],
   "source": []
  }
 ],
 "metadata": {
  "kernelspec": {
   "display_name": "Python 3",
   "language": "python",
   "name": "python3"
  },
  "language_info": {
   "codemirror_mode": {
    "name": "ipython",
    "version": 3
   },
   "file_extension": ".py",
   "mimetype": "text/x-python",
   "name": "python",
   "nbconvert_exporter": "python",
   "pygments_lexer": "ipython3",
   "version": "3.8.8"
  }
 },
 "nbformat": 4,
 "nbformat_minor": 5
}
